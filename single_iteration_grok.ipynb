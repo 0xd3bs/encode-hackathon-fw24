{
 "cells": [
  {
   "cell_type": "markdown",
   "metadata": {},
   "source": [
    "# Single iteration example\n",
    "Once you're happy with the first version of your functionality, you can build a scheduler around this to run on a regular basis or listen for events. The simplest possible version of a scheduler is a while loop. "
   ]
  },
  {
   "cell_type": "markdown",
   "metadata": {},
   "source": [
    "## Setup openai client\n",
    "We use Openai's GPT-4o model for this example, but you are free to use any model you want."
   ]
  },
  {
   "cell_type": "code",
   "execution_count": 1,
   "metadata": {},
   "outputs": [],
   "source": [
    "import os\n",
    "from dotenv import load_dotenv\n",
    "from openai import OpenAI\n",
    "load_dotenv()\n",
    "\n",
    "openai_client = OpenAI(\n",
    "  api_key=os.getenv(\"GROK_API_KEY\"),\n",
    "  base_url=\"https://api.x.ai/v1\",\n",
    ")\n",
    "\n",
    "\n",
    "# if you're getting an error here, ensure your envirornment is setup and that you have exported an openai api key\n",
    "# export OPENAI_API_KEY=\"your_api_key_here\""
   ]
  },
  {
   "cell_type": "markdown",
   "metadata": {},
   "source": [
    "## Setup hyperliquid sdk \n",
    "We use the hyperliquid L1 netowrk for this example, but you are free to use any app/chain you want.\n",
    "Hyperliquid offers a great SDK for python, fast settlement times for trades, and friendly user interface."
   ]
  },
  {
   "cell_type": "code",
   "execution_count": 2,
   "metadata": {},
   "outputs": [
    {
     "name": "stdout",
     "output_type": "stream",
     "text": [
      "{\n",
      "  \"marginSummary\": {\n",
      "    \"accountValue\": \"327545.027332\",\n",
      "    \"totalNtlPos\": \"44492.1617\",\n",
      "    \"totalRawUsd\": \"352885.266152\",\n",
      "    \"totalMarginUsed\": \"2242.100304\"\n",
      "  },\n",
      "  \"crossMarginSummary\": {\n",
      "    \"accountValue\": \"327545.027332\",\n",
      "    \"totalNtlPos\": \"44492.1617\",\n",
      "    \"totalRawUsd\": \"352885.266152\",\n",
      "    \"totalMarginUsed\": \"2242.100304\"\n",
      "  },\n",
      "  \"crossMaintenanceMarginUsed\": \"444.921615\",\n",
      "  \"withdrawable\": \"325302.927028\",\n",
      "  \"assetPositions\": [\n",
      "    {\n",
      "      \"type\": \"oneWay\",\n",
      "      \"position\": {\n",
      "        \"coin\": \"ATOM\",\n",
      "        \"szi\": \"491.45\",\n",
      "        \"leverage\": {\n",
      "          \"type\": \"cross\",\n",
      "          \"value\": 20\n",
      "        },\n",
      "        \"entryPx\": \"10.9725\",\n",
      "        \"positionValue\": \"3156.58335\",\n",
      "        \"unrealizedPnl\": \"-2235.851775\",\n",
      "        \"returnOnEquity\": \"-8.29254956\",\n",
      "        \"liquidationPx\": null,\n",
      "        \"marginUsed\": \"157.829167\",\n",
      "        \"maxLeverage\": 50,\n",
      "        \"cumFunding\": {\n",
      "          \"allTime\": \"-1616.377299\",\n",
      "          \"sinceOpen\": \"-1616.377299\",\n",
      "          \"sinceChange\": \"87.128678\"\n",
      "        }\n",
      "      }\n",
      "    },\n",
      "    {\n",
      "      \"type\": \"oneWay\",\n",
      "      \"position\": {\n",
      "        \"coin\": \"BTC\",\n",
      "        \"szi\": \"-0.15792\",\n",
      "        \"leverage\": {\n",
      "          \"type\": \"cross\",\n",
      "          \"value\": 20\n",
      "        },\n",
      "        \"entryPx\": \"31538.2\",\n",
      "        \"positionValue\": \"14598.1248\",\n",
      "        \"unrealizedPnl\": \"-9617.612256\",\n",
      "        \"returnOnEquity\": \"-38.62097393\",\n",
      "        \"liquidationPx\": \"2143234.64797943\",\n",
      "        \"marginUsed\": \"729.90624\",\n",
      "        \"maxLeverage\": 50,\n",
      "        \"cumFunding\": {\n",
      "          \"allTime\": \"-7725.956582\",\n",
      "          \"sinceOpen\": \"-7725.956582\",\n",
      "          \"sinceChange\": \"-7928.582184\"\n",
      "        }\n",
      "      }\n",
      "    },\n",
      "    {\n",
      "      \"type\": \"oneWay\",\n",
      "      \"position\": {\n",
      "        \"coin\": \"ETH\",\n",
      "        \"szi\": \"-2.8225\",\n",
      "        \"leverage\": {\n",
      "          \"type\": \"cross\",\n",
      "          \"value\": 20\n",
      "        },\n",
      "        \"entryPx\": \"2008.46\",\n",
      "        \"positionValue\": \"9629.241\",\n",
      "        \"unrealizedPnl\": \"-3960.36265\",\n",
      "        \"returnOnEquity\": \"-13.97229718\",\n",
      "        \"liquidationPx\": \"118154.37796596\",\n",
      "        \"marginUsed\": \"481.46205\",\n",
      "        \"maxLeverage\": 50,\n",
      "        \"cumFunding\": {\n",
      "          \"allTime\": \"-8937.998803\",\n",
      "          \"sinceOpen\": \"-8937.998803\",\n",
      "          \"sinceChange\": \"-9098.356897\"\n",
      "        }\n",
      "      }\n",
      "    },\n",
      "    {\n",
      "      \"type\": \"oneWay\",\n",
      "      \"position\": {\n",
      "        \"coin\": \"BNB\",\n",
      "        \"szi\": \"-14.872\",\n",
      "        \"leverage\": {\n",
      "          \"type\": \"cross\",\n",
      "          \"value\": 20\n",
      "        },\n",
      "        \"entryPx\": \"346.33\",\n",
      "        \"positionValue\": \"10380.35856\",\n",
      "        \"unrealizedPnl\": \"-5229.733327\",\n",
      "        \"returnOnEquity\": \"-20.30717861\",\n",
      "        \"liquidationPx\": \"22474.5729807\",\n",
      "        \"marginUsed\": \"519.017928\",\n",
      "        \"maxLeverage\": 50,\n",
      "        \"cumFunding\": {\n",
      "          \"allTime\": \"-2533.801493\",\n",
      "          \"sinceOpen\": \"-2533.801493\",\n",
      "          \"sinceChange\": \"-2549.746274\"\n",
      "        }\n",
      "      }\n",
      "    },\n",
      "    {\n",
      "      \"type\": \"oneWay\",\n",
      "      \"position\": {\n",
      "        \"coin\": \"GMT\",\n",
      "        \"szi\": \"232.0\",\n",
      "        \"leverage\": {\n",
      "          \"type\": \"cross\",\n",
      "          \"value\": 2\n",
      "        },\n",
      "        \"entryPx\": \"0.323488\",\n",
      "        \"positionValue\": \"38.8716\",\n",
      "        \"unrealizedPnl\": \"-36.177616\",\n",
      "        \"returnOnEquity\": \"-0.96410377\",\n",
      "        \"liquidationPx\": null,\n",
      "        \"marginUsed\": \"19.4358\",\n",
      "        \"maxLeverage\": 50,\n",
      "        \"cumFunding\": {\n",
      "          \"allTime\": \"184.801966\",\n",
      "          \"sinceOpen\": \"184.801966\",\n",
      "          \"sinceChange\": \"2.08536\"\n",
      "        }\n",
      "      }\n",
      "    },\n",
      "    {\n",
      "      \"type\": \"oneWay\",\n",
      "      \"position\": {\n",
      "        \"coin\": \"DYDX\",\n",
      "        \"szi\": \"-200.7\",\n",
      "        \"leverage\": {\n",
      "          \"type\": \"cross\",\n",
      "          \"value\": 20\n",
      "        },\n",
      "        \"entryPx\": \"3.0287\",\n",
      "        \"positionValue\": \"308.4759\",\n",
      "        \"unrealizedPnl\": \"299.38419\",\n",
      "        \"returnOnEquity\": \"9.85043088\",\n",
      "        \"liquidationPx\": \"1615.19664529\",\n",
      "        \"marginUsed\": \"15.423795\",\n",
      "        \"maxLeverage\": 50,\n",
      "        \"cumFunding\": {\n",
      "          \"allTime\": \"-1120.272393\",\n",
      "          \"sinceOpen\": \"-46.212359\",\n",
      "          \"sinceChange\": \"-46.212359\"\n",
      "        }\n",
      "      }\n",
      "    },\n",
      "    {\n",
      "      \"type\": \"oneWay\",\n",
      "      \"position\": {\n",
      "        \"coin\": \"APE\",\n",
      "        \"szi\": \"2689.3\",\n",
      "        \"leverage\": {\n",
      "          \"type\": \"cross\",\n",
      "          \"value\": 20\n",
      "        },\n",
      "        \"entryPx\": \"3.82611\",\n",
      "        \"positionValue\": \"3321.55443\",\n",
      "        \"unrealizedPnl\": \"-6968.003193\",\n",
      "        \"returnOnEquity\": \"-13.54383434\",\n",
      "        \"liquidationPx\": null,\n",
      "        \"marginUsed\": \"166.077721\",\n",
      "        \"maxLeverage\": 50,\n",
      "        \"cumFunding\": {\n",
      "          \"allTime\": \"454.980696\",\n",
      "          \"sinceOpen\": \"454.980696\",\n",
      "          \"sinceChange\": \"454.980696\"\n",
      "        }\n",
      "      }\n",
      "    },\n",
      "    {\n",
      "      \"type\": \"oneWay\",\n",
      "      \"position\": {\n",
      "        \"coin\": \"OP\",\n",
      "        \"szi\": \"1646.9\",\n",
      "        \"leverage\": {\n",
      "          \"type\": \"cross\",\n",
      "          \"value\": 20\n",
      "        },\n",
      "        \"entryPx\": \"2.0938\",\n",
      "        \"positionValue\": \"3058.95206\",\n",
      "        \"unrealizedPnl\": \"-389.343628\",\n",
      "        \"returnOnEquity\": \"-2.25818006\",\n",
      "        \"liquidationPx\": null,\n",
      "        \"marginUsed\": \"152.947603\",\n",
      "        \"maxLeverage\": 50,\n",
      "        \"cumFunding\": {\n",
      "          \"allTime\": \"961.298263\",\n",
      "          \"sinceOpen\": \"961.298263\",\n",
      "          \"sinceChange\": \"803.496567\"\n",
      "        }\n",
      "      }\n",
      "    }\n",
      "  ],\n",
      "  \"time\": 1735525467333\n",
      "}\n"
     ]
    }
   ],
   "source": [
    "\n",
    "from hyperliquid.info import Info\n",
    "from hyperliquid.utils import constants\n",
    "import json\n",
    "\n",
    "info = Info(constants.TESTNET_API_URL, skip_ws=True)\n",
    "\n",
    "# This is an example address, when you start trading this should be replaced with your address\n",
    "user_state = info.user_state(\"0xcd5051944f780a621ee62e39e493c489668acf4d\") \n",
    "print(json.dumps(user_state, indent=2))\n",
    "\n",
    "# if you're getting an error or no user_state here make sure your environment variables are set correctly and that all requirements are installed"
   ]
  },
  {
   "cell_type": "markdown",
   "metadata": {},
   "source": [
    "## Define example identity of a user\n",
    "This can be personalized for each individual user. We'll end up passing these fields to our prompts later, so that the same agent system can be used by many people with different goals and values. \n",
    "\n",
    "\n",
    "To think about: what other fields might be useful here? Are there sources of data you could gather from users instead of asking these questions directly? Ex: If I gave you my wallet address, what info would be helpful there? How would you gather and analyze that?"
   ]
  },
  {
   "cell_type": "code",
   "execution_count": 3,
   "metadata": {},
   "outputs": [],
   "source": [
    "\n",
    "identity_map = {\n",
    "    \"risk_level\": \"Moderate risk, willing to risk some money for the right investments but not chasing every new opportunity.\",\n",
    "    \"token_preferences\": \"Likes ETH more than BTC, doesnt like SOL\",\n",
    "    \"mission_statement\": \"Accumulate as much ETH as possible given the available funds.\",\n",
    "}"
   ]
  },
  {
   "cell_type": "markdown",
   "metadata": {},
   "source": [
    "## Gather onchain data for the user's wallet\n",
    "Info on prices, balances, available assets, etc.\n"
   ]
  },
  {
   "cell_type": "code",
   "execution_count": 19,
   "metadata": {},
   "outputs": [
    {
     "name": "stdout",
     "output_type": "stream",
     "text": [
      "325302.927028\n"
     ]
    }
   ],
   "source": [
    "# the amount available to withdraw is approximately equal to the balance available to trade\n",
    "# there is room for a better way to track this\n",
    "available_balance = user_state.get('withdrawable') # denominated in USD\n",
    "print(available_balance)"
   ]
  },
  {
   "cell_type": "code",
   "execution_count": 21,
   "metadata": {},
   "outputs": [
    {
     "name": "stdout",
     "output_type": "stream",
     "text": [
      "Current ATOM position: size 491.45 ATOM, value of 3156.58335 usd, leverage 20, and unrealizedPnl -2235.851775 usd. The max leverage for this position is 50.\n",
      "Current BTC position: size -0.15792 BTC, value of 14598.1248 usd, leverage 20, and unrealizedPnl -9617.612256 usd. The max leverage for this position is 50.\n",
      "Current ETH position: size -2.8225 ETH, value of 9629.241 usd, leverage 20, and unrealizedPnl -3960.36265 usd. The max leverage for this position is 50.\n",
      "Current BNB position: size -14.872 BNB, value of 10380.35856 usd, leverage 20, and unrealizedPnl -5229.733327 usd. The max leverage for this position is 50.\n",
      "Current GMT position: size 232.0 GMT, value of 38.8716 usd, leverage 2, and unrealizedPnl -36.177616 usd. The max leverage for this position is 50.\n",
      "Current DYDX position: size -200.7 DYDX, value of 308.4759 usd, leverage 20, and unrealizedPnl 299.38419 usd. The max leverage for this position is 50.\n",
      "Current APE position: size 2689.3 APE, value of 3321.55443 usd, leverage 20, and unrealizedPnl -6968.003193 usd. The max leverage for this position is 50.\n",
      "Current OP position: size 1646.9 OP, value of 3058.95206 usd, leverage 20, and unrealizedPnl -389.343628 usd. The max leverage for this position is 50.\n",
      "\n"
     ]
    }
   ],
   "source": [
    "# We're also going to take a look at the current positions that are open, and format them for use with our models\n",
    "positions = user_state.get('assetPositions')\n",
    "positions_for_llm = ''\n",
    "if positions:\n",
    "    for position in positions:\n",
    "        position = position.get('position')\n",
    "        position_for_llm = f\"Current {position.get('coin')} position: size {position.get('szi')} {position.get('coin')}, value of {position.get('positionValue')} usd, leverage {position.get('leverage').get('value')}, and unrealizedPnl {position.get('unrealizedPnl')} usd. The max leverage for this position is {position.get('maxLeverage')}.\\n\"\n",
    "        positions_for_llm += position_for_llm\n",
    "print(positions_for_llm)"
   ]
  },
  {
   "cell_type": "markdown",
   "metadata": {},
   "source": [
    "## Gather all additional information\n",
    "This is a great place to experiment with different data sources, for this example we'll simulate a summarization of a chat users might have with in chat, and some recent headlines."
   ]
  },
  {
   "cell_type": "code",
   "execution_count": 23,
   "metadata": {},
   "outputs": [],
   "source": [
    "recent_headlines = (\"*ROBINHOOD: CRYPTO TRADING VOLUMES OVER $30B, UP 600% YOY\\n\"\n",
    "                     \"*FED’S MUSALEM: TIME MAY BE APPROACHING TO SLOW OR PAUSE RATE CUTS\\n\")\n",
    "\n",
    "chat_summary = \"Bob is happy with the Ethereum roadmap and has been hearing more people talk about it.\\n\"\n",
    "\n",
    "chat_and_data_summary = chat_summary + recent_headlines"
   ]
  },
  {
   "cell_type": "markdown",
   "metadata": {},
   "source": [
    "## Create our prompts\n",
    "\n",
    "We do this with markdown because OpenAI models respond well to this format, however you can use any format you like.\n",
    "\n",
    "This is structured as a system prompt that remains fixed for all users, and a user prompt unique to each user."
   ]
  },
  {
   "cell_type": "code",
   "execution_count": 24,
   "metadata": {},
   "outputs": [],
   "source": [
    "system_prompt = (\n",
    "    \"# Instructions:\\n\"\n",
    "    \"Act as a helpful cryptocurrency assistant helping users manage their trading portfolio.\\n\"\n",
    "    \"They understand it is inherently risky to trade cryptocurrency, and they want to make sure they are making informed decisions.\\n\"\n",
    "    \"You will be given a `available_balance` representing the user's total available value to make new trades with, a list of available assets, a risk level, and a list of their current positions.\\n\"\n",
    "    \"Think carefully through all scenarios and please provide your best guidance and reasoning for this decision.\\n\"\n",
    "    \"The USD value of each individual trade should not exceed the `available_balance`, and trades should be sized to allow for sufficient 'available_balance' to handle market volatility or unforeseen events.\\n\"\n",
    "    \"Do not suggest or provide reasoning for order where your suggested order size (for both new and addition to existing positions) is less than 10 USD.\\n\"\n",
    "    \"Ensure that there is enough margin available to support the trade size and leverage. Adjust leverage or order size accordingly, if required, while remaining within the 10 USD per order limit. If not possible, then do not suggest a new position and instead recommend to the user to deposit additional funds.\\n\"\n",
    "    \"# Available Options:\\n\"\n",
    "    \"- create a new position which should be tracked in the list ```positions_to_open```\\n\"\n",
    "    \"- modify or close an existing position which should be tracked in the list ```positions_to_modify```\\n\"\n",
    "    \"- maintain an existing position without changes which should be tracked in the list ```positions_to_maintain```\\n\"\n",
    "    \"# Fields for each option:\\n\"\n",
    "    \"- asset: the asset to trade\\n\"\n",
    "    \"\\t- example: ETH\\n\"\n",
    "    \"- direction: the direction to trade\\n\"\n",
    "    \"\\t- example: long, short\\n\"\n",
    "    \"- size: the size of the trade denominated in USD. It has to be bigger than 10 and should not use up the entire 'available_balance', leaving enough funds available for risk management and flexibility.\\n\"\n",
    "    \"\\t- the trade size should be greater than 10 USD even when modifying an existing position.\\n\"\n",
    "    \"\\t- example: 90 # If the 'available_balance' is 90, use at most 80 for the sum of all trades, keeping 10 as a buffer. Ensure trades are sized to allow for sufficient 'available_balance' to handle market volatility or unforeseen events.\\n\"\n",
    "    \"- leverage: the leverage to use for the trade\\n\"\n",
    "    \"\\t- example: 10\\n\"\n",
    "    \"- reasoning: the reasoning for the decision\\n\"\n",
    "    \"\\t- example: ['People value Alice's opinion and she really likes ETH here.', 'ETH price is low right now, volume is high compared to yesterday.', 'ETH is a solid long term investment.']\\n\"\n",
    ")"
   ]
  },
  {
   "cell_type": "code",
   "execution_count": 25,
   "metadata": {},
   "outputs": [],
   "source": [
    "user_message = (\n",
    "    \"# Instructions:\\n\"\n",
    "    \"Here are some details about me, can you help me make decisions about my trading portfolio?\\n\"\n",
    "    \"# Personality\\n\"\n",
    "    f\"{identity_map.get('chat_personality')}\\n\"\n",
    "    \"# Risk Level\\n\"\n",
    "    f\"{identity_map.get('risk_level')}\\n\"\n",
    "    \"This represents the total $USD value of the account, including positions, margin, and available funds.\\n\"\n",
    "    \"# Available Balance\\n\"\n",
    "    f\"{available_balance}\\n\"\n",
    "    \"Portions of this 'available_balance' can be used for placing new orders or modifying existing positions.\\n\"\n",
    "    \"Always leave a fraction of total 'available_balance' as a safety buffer for unforeseen volatility.\\n\"\n",
    "    \"The 'available_balance' is shared by all positions, so it is important to keep track of the available value and adjust your position sizes accordingly.\\n\"\n",
    "    \"# Open Positions\\n\"\n",
    "    f\"{positions_for_llm}\\n\"\n",
    "    \"# Here is the most recent information I want to base my decisions on:\\n\"\n",
    "    f\"{chat_and_data_summary}\\n\"\n",
    ")\n",
    "\n"
   ]
  },
  {
   "cell_type": "code",
   "execution_count": 26,
   "metadata": {},
   "outputs": [],
   "source": [
    "# append our messages to the chat\n",
    "model = \"grok-2-1212\"\n",
    "messages = [\n",
    "    {\"role\": \"system\", \"content\": system_prompt},\n",
    "    {\"role\": \"user\", \"content\": user_message},\n",
    "]\n"
   ]
  },
  {
   "cell_type": "markdown",
   "metadata": {},
   "source": [
    "# Define our response format\n",
    "\n",
    "We don't want to receive a response of unstructured text, so we'll define a custom response format.\n",
    "We need to be able to act on this information, and need the result in a consistent format. \n",
    "\n",
    "You could choose to use tool calling here as well, however we choose not to because we don't always need to call a tool. Ex: if we're maintaining a positioin we might as well do nothing, instead of calling some position to maintain tool.\n",
    "\n",
    "\n",
    "You can read more about structured output vs. tool calling [here](https://platform.openai.com/docs/guides/structured-outputs)"
   ]
  },
  {
   "cell_type": "code",
   "execution_count": 27,
   "metadata": {},
   "outputs": [],
   "source": [
    "from pydantic import BaseModel, Field\n",
    "from typing import Literal\n",
    "\n",
    "# This class will be used to submit the trades\n",
    "class Position(BaseModel):\n",
    "    market: str = Field(..., description=\"The asset to trade\")\n",
    "    direction: Literal[\"long\", \"short\"] = Field(\n",
    "        ...,\n",
    "        description=\"The direction to trade\",\n",
    "    )\n",
    "    size: float = Field(\n",
    "        ...,\n",
    "        description=\"The size of the trade denominated in USD. It should be greater than 10.\",\n",
    "    )\n",
    "    reasoning: list[str] = Field(\n",
    "        default_factory=list,\n",
    "        description=\"The reasoning for the decision\",\n",
    "    )\n",
    "    leverage: int | None = Field(None, description=\"Optional leverage multiplier\")\n",
    "\n",
    "\n",
    "class PositionReasoning(BaseModel):\n",
    "    positions_to_maintain: list[Position] = Field(\n",
    "        default_factory=list,\n",
    "        description=\"Positions to maintain without changes\",\n",
    "    )\n",
    "    positions_to_modify: list[Position] = Field(\n",
    "        default_factory=list,\n",
    "        description=\"Positions to modify or close\",\n",
    "    )\n",
    "    positions_to_open: list[Position] = Field(\n",
    "        default_factory=list,\n",
    "        description=\"Positions to open\",\n",
    "    )"
   ]
  },
  {
   "cell_type": "markdown",
   "metadata": {},
   "source": [
    "## Make our call"
   ]
  },
  {
   "cell_type": "code",
   "execution_count": 28,
   "metadata": {},
   "outputs": [
    {
     "data": {
      "text/plain": [
       "{'positions_to_maintain': [{'market': 'ATOM',\n",
       "   'direction': 'long',\n",
       "   'size': 3156.58335,\n",
       "   'reasoning': [\"ATOM is currently at a loss, but it's a long-term investment with potential for recovery.\",\n",
       "    'Maintaining the position to avoid realizing losses and to benefit from any potential future gains.'],\n",
       "   'leverage': 20},\n",
       "  {'market': 'BTC',\n",
       "   'direction': 'short',\n",
       "   'size': 14598.1248,\n",
       "   'reasoning': [\"BTC is currently at a significant loss, but it's a major asset with high liquidity.\",\n",
       "    'Keeping the position to potentially benefit from further market downturns or recovery.'],\n",
       "   'leverage': 20},\n",
       "  {'market': 'ETH',\n",
       "   'direction': 'short',\n",
       "   'size': 9629.241,\n",
       "   'reasoning': [\"Despite positive sentiment around Ethereum's roadmap, the current short position is at a loss.\",\n",
       "    'Maintaining the position to possibly capitalize on short-term market fluctuations or a reversal in sentiment.'],\n",
       "   'leverage': 20},\n",
       "  {'market': 'BNB',\n",
       "   'direction': 'short',\n",
       "   'size': 10380.35856,\n",
       "   'reasoning': [\"BNB is at a loss, but it's a key player in the crypto ecosystem.\",\n",
       "    'Holding the position to potentially benefit from further market downturns or a recovery.'],\n",
       "   'leverage': 20},\n",
       "  {'market': 'GMT',\n",
       "   'direction': 'long',\n",
       "   'size': 38.8716,\n",
       "   'reasoning': [\"GMT is a small position and currently at a loss, but it's worth holding onto for potential future growth.\",\n",
       "    'Low leverage used, minimizing risk.'],\n",
       "   'leverage': 2},\n",
       "  {'market': 'DYDX',\n",
       "   'direction': 'short',\n",
       "   'size': 308.4759,\n",
       "   'reasoning': ['DYDX is currently in profit, suggesting a good short position.',\n",
       "    'Maintaining the position to potentially benefit from further market downturns or to lock in gains at the right time.'],\n",
       "   'leverage': 20},\n",
       "  {'market': 'APE',\n",
       "   'direction': 'long',\n",
       "   'size': 3321.55443,\n",
       "   'reasoning': [\"APE is currently at a significant loss, but it's a speculative asset with potential for recovery.\",\n",
       "    'Holding onto the position to avoid realizing the loss and to potentially benefit from a rebound.'],\n",
       "   'leverage': 20},\n",
       "  {'market': 'OP',\n",
       "   'direction': 'long',\n",
       "   'size': 3058.95206,\n",
       "   'reasoning': [\"OP is at a small loss, but it's a promising project with potential for growth.\",\n",
       "    'Maintaining the position to benefit from any future increases in value.'],\n",
       "   'leverage': 20}],\n",
       " 'positions_to_modify': [{'market': 'ETH',\n",
       "   'direction': 'long',\n",
       "   'size': 9000.0,\n",
       "   'reasoning': [\"Positive sentiment around Ethereum's roadmap and increasing discussions among investors.\",\n",
       "    \"Robinhood's crypto trading volumes up significantly, suggesting increased market interest.\",\n",
       "    \"Federal Reserve's potential pause on rate cuts could lead to more liquidity in the market, possibly benefiting cryptocurrencies like ETH.\",\n",
       "    'Current short position at a loss, but considering a partial long position to hedge and potentially benefit from positive developments.'],\n",
       "   'leverage': 10}],\n",
       " 'positions_to_open': [{'market': 'SOL',\n",
       "   'direction': 'long',\n",
       "   'size': 10000.0,\n",
       "   'reasoning': ['Solana (SOL) has been gaining traction as a high-performance blockchain platform.',\n",
       "    \"Increased market interest in cryptocurrencies due to Robinhood's trading volumes.\",\n",
       "    'Potential Federal Reserve actions could lead to more liquidity, which might positively impact cryptocurrencies like SOL.',\n",
       "    'SOL is not currently in the portfolio, presenting a diversification opportunity.'],\n",
       "   'leverage': 10}]}"
      ]
     },
     "execution_count": 28,
     "metadata": {},
     "output_type": "execute_result"
    }
   ],
   "source": [
    "completion = openai_client.beta.chat.completions.parse(\n",
    "    model=model,\n",
    "    messages=messages,\n",
    "    response_format=PositionReasoning,\n",
    ")\n",
    "\n",
    "result = completion.choices[0].message.parsed\n",
    "result.model_dump()"
   ]
  },
  {
   "cell_type": "markdown",
   "metadata": {},
   "source": [
    "## Submit our trades (Incomplete example for testing)\n",
    "\n",
    "For positions_to_maintain there is no action required, but it's helpful to log and explain the \"reasoning\" to users\n",
    "positions_to_open and positions_to_modify both require submitting orders onchain. \n",
    "\n",
    "\n",
    "If you wish to start trading before updates to this notebook are available, you can refer to the [hyperliquid-python-sdk.](https://github.com/hyperliquid-dex/hyperliquid-python-sdk) "
   ]
  },
  {
   "cell_type": "code",
   "execution_count": 29,
   "metadata": {},
   "outputs": [
    {
     "data": {
      "text/plain": [
       "[Position(market='SOL', direction='long', size=10000.0, reasoning=['Solana (SOL) has been gaining traction as a high-performance blockchain platform.', \"Increased market interest in cryptocurrencies due to Robinhood's trading volumes.\", 'Potential Federal Reserve actions could lead to more liquidity, which might positively impact cryptocurrencies like SOL.', 'SOL is not currently in the portfolio, presenting a diversification opportunity.'], leverage=10)]"
      ]
     },
     "execution_count": 29,
     "metadata": {},
     "output_type": "execute_result"
    }
   ],
   "source": [
    "result.positions_to_open"
   ]
  },
  {
   "cell_type": "code",
   "execution_count": 30,
   "metadata": {},
   "outputs": [
    {
     "data": {
      "text/plain": [
       "'SOL'"
      ]
     },
     "execution_count": 30,
     "metadata": {},
     "output_type": "execute_result"
    }
   ],
   "source": [
    "result.positions_to_open[0].market"
   ]
  },
  {
   "cell_type": "code",
   "execution_count": 31,
   "metadata": {},
   "outputs": [
    {
     "data": {
      "text/plain": [
       "'long'"
      ]
     },
     "execution_count": 31,
     "metadata": {},
     "output_type": "execute_result"
    }
   ],
   "source": [
    "result.positions_to_open[0].direction"
   ]
  },
  {
   "cell_type": "code",
   "execution_count": 32,
   "metadata": {},
   "outputs": [
    {
     "data": {
      "text/plain": [
       "10000.0"
      ]
     },
     "execution_count": 32,
     "metadata": {},
     "output_type": "execute_result"
    }
   ],
   "source": [
    "result.positions_to_open[0].size"
   ]
  },
  {
   "cell_type": "code",
   "execution_count": 33,
   "metadata": {},
   "outputs": [
    {
     "data": {
      "text/plain": [
       "10"
      ]
     },
     "execution_count": 33,
     "metadata": {},
     "output_type": "execute_result"
    }
   ],
   "source": [
    "result.positions_to_open[0].leverage"
   ]
  },
  {
   "cell_type": "code",
   "execution_count": 34,
   "metadata": {},
   "outputs": [
    {
     "data": {
      "text/plain": [
       "['Solana (SOL) has been gaining traction as a high-performance blockchain platform.',\n",
       " \"Increased market interest in cryptocurrencies due to Robinhood's trading volumes.\",\n",
       " 'Potential Federal Reserve actions could lead to more liquidity, which might positively impact cryptocurrencies like SOL.',\n",
       " 'SOL is not currently in the portfolio, presenting a diversification opportunity.']"
      ]
     },
     "execution_count": 34,
     "metadata": {},
     "output_type": "execute_result"
    }
   ],
   "source": [
    "result.positions_to_open[0].reasoning"
   ]
  }
 ],
 "metadata": {
  "kernelspec": {
   "display_name": ".venv",
   "language": "python",
   "name": "python3"
  },
  "language_info": {
   "codemirror_mode": {
    "name": "ipython",
    "version": 3
   },
   "file_extension": ".py",
   "mimetype": "text/x-python",
   "name": "python",
   "nbconvert_exporter": "python",
   "pygments_lexer": "ipython3",
   "version": "3.12.3"
  }
 },
 "nbformat": 4,
 "nbformat_minor": 2
}
